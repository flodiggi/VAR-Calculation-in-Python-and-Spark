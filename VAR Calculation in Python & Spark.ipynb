{
 "cells": [
  {
   "cell_type": "markdown",
   "metadata": {},
   "source": [
    "# Value at Risk Calculation using SPARK"
   ]
  },
  {
   "cell_type": "markdown",
   "metadata": {},
   "source": [
    "TEAM MEMBERS: Yasmine, Agata, Edem, Javier, Florian"
   ]
  },
  {
   "cell_type": "markdown",
   "metadata": {},
   "source": [
    "The following Jupyter will explain our approach and walk through the different steps in deriving. The actual computations have been executed in both Anaconda Spyder and later in the Spark Virtual Environment that was provided to us. Code Snippets might reference CSV files, to re-run this project this has to be adjusted."
   ]
  },
  {
   "cell_type": "markdown",
   "metadata": {},
   "source": [
    "# Structure\n",
    "## 1. Instruments\n",
    "## 2. Factors\n",
    "## 3. Model\n",
    "## 4. Implementation in SPARK"
   ]
  },
  {
   "cell_type": "code",
   "execution_count": 1,
   "metadata": {},
   "outputs": [],
   "source": [
    "import pandas as pd  \n",
    "import os.path"
   ]
  },
  {
   "cell_type": "markdown",
   "metadata": {},
   "source": [
    "# 1. Instruments"
   ]
  },
  {
   "cell_type": "markdown",
   "metadata": {},
   "source": [
    "## 1.1 Create dataframe with the values of all instruments from the csv files "
   ]
  },
  {
   "cell_type": "markdown",
   "metadata": {},
   "source": [
    "### Read the directory where the csv files are saved\n",
    "Files have been saved as local copies"
   ]
  },
  {
   "cell_type": "code",
   "execution_count": 5,
   "metadata": {},
   "outputs": [],
   "source": [
    "path = '/Users/flo/Documents/GitHub/VaR-Calculation-SPARK/Instruments_data'  \n",
    "filelist = os.listdir(path)\n",
    "\n",
    "csv_inst_names = []\n",
    "\n",
    "for i in filelist:\n",
    "    csv_inst_names.append(i[:-4])"
   ]
  },
  {
   "cell_type": "markdown",
   "metadata": {},
   "source": [
    "### Create daterange to merge with the values of all instruments afterwards\n",
    "This allows us to control our custom defined date ranges as specified in the project and we can standardize that across instruments (We are starting with 12/16 so that we already have a return for the first Non-Holiday Day in 2008)"
   ]
  },
  {
   "cell_type": "code",
   "execution_count": 14,
   "metadata": {},
   "outputs": [],
   "source": [
    "daterange = pd.date_range('2007-12-26','2019-01-31')\n",
    "daterange = pd.DataFrame(data=daterange)\n",
    "daterange.rename(columns={0: 'Date'}, inplace=True)"
   ]
  },
  {
   "cell_type": "markdown",
   "metadata": {},
   "source": [
    "### Merge daterange with the instruments, drop weekends and fill holidays with values from previous day\n",
    "As we are interested in returns over a given period of time, we decided to remove weekends. For example, on a Monday the count for the return over 5 past days would start on the last trading Day, Friday. Additionally, we have a lot of holidays and missing values across datasets. For them, we apply a similar logic - Filling the blank with the last previous available value."
   ]
  },
  {
   "cell_type": "code",
   "execution_count": 7,
   "metadata": {},
   "outputs": [],
   "source": [
    "instruments = daterange.copy()\n",
    "\n",
    "#We have started with a instrument file that only contains the dates, now we can add a column for each instrument\n",
    "\n",
    "for i in csv_inst_names:\n",
    "    instrument = pd.read_csv('/Users/flo/Documents/GitHub/VaR-Calculation-SPARK/Instruments_data/{}.csv'.format(i))\n",
    "    instrument = instrument[['timestamp','close']]\n",
    "    instrument.rename(columns={'timestamp': 'Date'}, inplace=True)\n",
    "    instrument.rename(columns={'close': i}, inplace=True)    \n",
    "    instrument['Date'] = pd.to_datetime(instrument.Date)\n",
    "    instruments = pd.merge(instruments, instrument, how='left', on=['Date'])\n",
    "\n",
    "instruments['Date'] = instruments['Date'].dt.date\n",
    "\n",
    "instruments['Weekday'] = pd.DatetimeIndex(instruments['Date']).weekday\n",
    "instruments['Weekend'] = instruments['Weekday'].map(lambda x: 1 if x == 5.0 or x == 6.0 else 0)\n",
    "instruments = instruments[instruments['Weekend'] != 1]\n",
    "instruments = instruments.reset_index()\n",
    "instruments = instruments.drop('index', 1)\n",
    "instruments = instruments.fillna(method='ffill')\n"
   ]
  },
  {
   "cell_type": "markdown",
   "metadata": {},
   "source": [
    "### Convert values to numeric to allow further calculations"
   ]
  },
  {
   "cell_type": "code",
   "execution_count": 8,
   "metadata": {},
   "outputs": [],
   "source": [
    "cols = instruments.columns.drop('Date')\n",
    "instruments[cols] = instruments[cols].apply(pd.to_numeric, errors='coerce')"
   ]
  },
  {
   "cell_type": "markdown",
   "metadata": {},
   "source": [
    "## 1.2. Calculating 5 days returns of each instrument\n",
    "\n",
    "We now have a Pandas datframe with the values of all the instruments. The next step involves converting these into returns. As per instructions, we are using the following formula: <br>\n",
    "(price(day) – price(day – 5)) / price(day – 5)  <br>\n",
    "We are creating a new column with returns for each, so that we can calculate the value for each day, based on the PRICES of the last 5 days\n"
   ]
  },
  {
   "cell_type": "code",
   "execution_count": 9,
   "metadata": {},
   "outputs": [],
   "source": [
    "returns_instruments = instruments.drop('Weekday', 1)\n",
    "returns_instruments = returns_instruments.drop('Weekend', 1)\n",
    "\n",
    "for column in returns_instruments:\n",
    "    if column == 'Date':\n",
    "        continue\n",
    "    for index, row in returns_instruments.iterrows():\n",
    "            if index < 5:\n",
    "                continue\n",
    "            else:    \n",
    "                returns_instruments.loc[index, 'Return ' + column] = (returns_instruments.loc[index, column] - returns_instruments.loc[index-5, column]) / returns_instruments.loc[index-5, column]\n",
    "\n",
    "returns_instruments = returns_instruments[['Date', 'Return daily_DGLD', 'Return daily_MDRX', 'Return daily_HAWK',\n",
    "       'Return daily_DOX', 'Return daily_EGHT', 'Return daily_CFFI',\n",
    "       'Return daily_JOBS', 'Return daily_FCCY', 'Return daily_CHRW',\n",
    "       'Return daily_TWOU', 'Return daily_CRMT', 'Return daily_INBK',\n",
    "       'Return daily_XLRN', 'Return daily_AVHI', 'Return daily_MULT',\n",
    "       'Return daily_MTGE', 'Return daily_VNET', 'Return daily_QABA',\n",
    "       'Return daily_FUBC', 'Return daily_KOOL', 'Return daily_BCOM',\n",
    "       'Return daily_ABAX', 'Return daily_FLWS', 'Return daily_PLCE',\n",
    "       'Return daily_HTHT', 'Return daily_GOOG', 'Return daily_DAEG',\n",
    "       'Return daily_AEGR', 'Return daily_CHOP', 'Return daily_DJCO',\n",
    "       'Return daily_EPAX', 'Return daily_JRJC', 'Return daily_SRCE',\n",
    "       'Return daily_UHAL', 'Return daily_YPRO', 'Return daily_SATS',\n",
    "       'Return daily_HGSH', 'Return daily_IMOS', 'Return daily_ACTA',\n",
    "       'Return daily_FTLB', 'Return daily_SHLM', 'Return daily_HOTR',\n",
    "       'Return daily_BIRT', 'Return daily_WATT', 'Return daily_PIH',\n",
    "       'Return daily_BOSC', 'Return daily_FCTY', 'Return daily_AAON',\n",
    "       'Return daily_FOLD']]\n",
    "\n",
    "returns_instruments = returns_instruments[5:]"
   ]
  },
  {
   "cell_type": "markdown",
   "metadata": {},
   "source": [
    "## 1.3. Check Start date and End date for each instrument and Remove instruments with no data until 31 Jan 2019. Generate file containing only the instruments with data until 31 Jan 2019.\n",
    "So far, we have looked at our instruments only from a coding, not from a finance perspective. No we will add the finance view. We decided to remove all instruments that did not have values in 2019. Our assumption here is that if the instrument is not listed any more on the stock market, there is no return benefit to the portfolio, as we want to make predictions for the future and not the past. We have outputed the ones that we removed below:"
   ]
  },
  {
   "cell_type": "code",
   "execution_count": 10,
   "metadata": {},
   "outputs": [
    {
     "name": "stdout",
     "output_type": "stream",
     "text": [
      "HAWK\n",
      "Start date:  2013-04-19\n",
      "End date:  2018-06-25 \n",
      "\n",
      "HAWK  no data until 31-Jan-19 \n",
      "\n",
      "AVHI\n",
      "Start date:  2003-05-23\n",
      "End date:  2018-10-02 \n",
      "\n",
      "AVHI  no data until 31-Jan-19 \n",
      "\n",
      "MULT\n",
      "Start date:  2014-07-09\n",
      "End date:  2015-10-30 \n",
      "\n",
      "MULT  no data until 31-Jan-19 \n",
      "\n",
      "MTGE\n",
      "Start date:  2011-08-04\n",
      "End date:  2018-09-07 \n",
      "\n",
      "MTGE  no data until 31-Jan-19 \n",
      "\n",
      "FUBC\n",
      "Start date:  2008-04-10\n",
      "End date:  2014-10-31 \n",
      "\n",
      "FUBC  no data until 31-Jan-19 \n",
      "\n",
      "ABAX\n",
      "Start date:  1998-01-02\n",
      "End date:  2018-08-01 \n",
      "\n",
      "ABAX  no data until 31-Jan-19 \n",
      "\n",
      "DAEG\n",
      "Start date:  1998-01-02\n",
      "End date:  2015-11-20 \n",
      "\n",
      "DAEG  no data until 31-Jan-19 \n",
      "\n",
      "AEGR\n",
      "Start date:  2010-10-21\n",
      "End date:  2016-12-07 \n",
      "\n",
      "AEGR  no data until 31-Jan-19 \n",
      "\n",
      "CHOP\n",
      "Start date:  2007-04-17\n",
      "End date:  2015-11-24 \n",
      "\n",
      "CHOP  no data until 31-Jan-19 \n",
      "\n",
      "EPAX\n",
      "Start date:  2002-03-01\n",
      "End date:  2015-10-23 \n",
      "\n",
      "EPAX  no data until 31-Jan-19 \n",
      "\n",
      "YPRO\n",
      "Start date:  2016-01-04\n",
      "End date:  2016-11-01 \n",
      "\n",
      "YPRO  no data until 31-Jan-19 \n",
      "\n",
      "ACTA\n",
      "Start date:  1999-08-05\n",
      "End date:  2018-04-20 \n",
      "\n",
      "ACTA  no data until 31-Jan-19 \n",
      "\n",
      "SHLM\n",
      "Start date:  1998-01-02\n",
      "End date:  2018-08-22 \n",
      "\n",
      "SHLM  no data until 31-Jan-19 \n",
      "\n",
      "HOTR\n",
      "Start date:  2006-10-31\n",
      "End date:  2017-11-13 \n",
      "\n",
      "HOTR  no data until 31-Jan-19 \n",
      "\n",
      "BIRT\n",
      "Start date:  1998-07-17\n",
      "End date:  2015-01-16 \n",
      "\n",
      "BIRT  no data until 31-Jan-19 \n",
      "\n",
      "FCTY\n",
      "Start date:  2016-01-04\n",
      "End date:  2016-07-05 \n",
      "\n",
      "FCTY  no data until 31-Jan-19 \n",
      "\n"
     ]
    }
   ],
   "source": [
    "final_columns = ['Date']\n",
    "\n",
    "for i in csv_inst_names:\n",
    "\n",
    "    instru = pd.read_csv('/Users/flo/Documents/GitHub/VaR-Calculation-SPARK/Instruments_data/{}.csv'.format(i))\n",
    "\n",
    "    if max(instru['timestamp']) < '2019-01-31':\n",
    "        print(i[6:])\n",
    "        print('Start date: ', min(instru['timestamp']))\n",
    "        print('End date: ', max(instru['timestamp']), '\\n')\n",
    "        print( i[6:], ' no data until 31-Jan-19 \\n')\n",
    "    else:\n",
    "        final_columns.append('Return '+ i)\n",
    "\n",
    "returns_instruments = returns_instruments[final_columns]"
   ]
  },
  {
   "cell_type": "markdown",
   "metadata": {},
   "source": [
    "## 1.4. Generate file containing only the instruments with data until 31 Jan 2019.\n",
    "The final step for the Instruments involves saving the pandaframe locally, so that we can access it quicker for future computation\n"
   ]
  },
  {
   "cell_type": "code",
   "execution_count": 11,
   "metadata": {},
   "outputs": [],
   "source": [
    "#returns_instruments.to_csv('/Users/javierfdz/Documents/GitHub/VaR-Calculation-SPARK/Instruments_returns.csv', index=False)"
   ]
  },
  {
   "cell_type": "markdown",
   "metadata": {},
   "source": [
    "# 2. Factors"
   ]
  },
  {
   "cell_type": "code",
   "execution_count": 12,
   "metadata": {},
   "outputs": [],
   "source": [
    "import urllib.request as url\n",
    "import numpy as np\n",
    "import pandas as pd\n",
    "\n",
    "\n",
    "factor1url = 'https://www.alphavantage.co/query?function=TIME_SERIES_DAILY&symbol=%5eGSPC&outputsize=full&apikey=CAJH46WI0QYW2RGK&datatype=csv'\n",
    "factor2url = 'https://www.alphavantage.co/query?function=TIME_SERIES_DAILY&symbol=NDAQ&outputsize=full&apikey=CAJH46WI0QYW2RGK&datatype=csv'\n",
    "factor3url = 'https://www.quandl.com/api/v3/datasets/OPEC/ORB/data.csv?start_date=2007-12-26&end_date=2019-01-31&api_key=LwmAyD-1JHAzhMKKSvDX'\n",
    "factor4url = 'https://www.quandl.com/api/v3/datasets/USTREASURY/YIELD.csv?start_date=2007-12-26&end_date=2019-01-31&api_key=LwmAyD-1JHAzhMKKSvDX'\n",
    "\n",
    "\n",
    "\n",
    "alphaurls = {\"Factor 1\":factor1url,\"Factor 2\":factor2url}\n",
    "quandlurls = {\"Factor 3\":factor3url,\"Factor 4\":factor4url}"
   ]
  },
  {
   "cell_type": "markdown",
   "metadata": {},
   "source": [
    "## In the following, we will create dataframes for Factor 1 & 2\n",
    "We have to split 1 & 2 - 2&3 Factors as the APIs use a different json format"
   ]
  },
  {
   "cell_type": "code",
   "execution_count": 13,
   "metadata": {},
   "outputs": [],
   "source": [
    "#Creating DF for Factor 1 & 2\n",
    "\n",
    "lst = []\n",
    "for i in alphaurls:\n",
    "    remoteFile = url.urlopen(alphaurls[i])\n",
    "    html = remoteFile.read().decode('ascii').splitlines()\n",
    "    b = pd.DataFrame(data=html)\n",
    "    b = b[0].str.split(\",\", expand = True)\n",
    "    b.columns = b.iloc[0]\n",
    "    b = b[1:]\n",
    "    final = b[['timestamp','close']]\n",
    "    final = final[final['timestamp'] >= '2007-12-26']\n",
    "    final.rename(columns={'close': i}, inplace=True) \n",
    "    final.rename(columns={'timestamp': 'Date'}, inplace=True) \n",
    "    final['Date'] = pd.to_datetime(final.Date)\n",
    "    lst.append(final)\n",
    "factor1_2 = pd.merge(lst[0], lst[1], how='outer', on=['Date']) "
   ]
  },
  {
   "cell_type": "markdown",
   "metadata": {},
   "source": [
    "## We then create a daterange manually, which will help us control the start date  and end date of the dataframes and manipulate weekends\n",
    "This is the same approach as previoulsy with the instruments"
   ]
  },
  {
   "cell_type": "code",
   "execution_count": 15,
   "metadata": {},
   "outputs": [],
   "source": [
    "#Adding a custom daterange to account for holidays etc that are different in datasets\n",
    "\n",
    "daterange = pd.date_range('2007-12-26','2019-01-31')\n",
    "daterange = pd.DataFrame(data=daterange)\n",
    "daterange.rename(columns={0: 'Date'}, inplace=True) \n",
    "\n",
    "#Mapping for weekends\n",
    "daterange['Weekday'] = pd.DatetimeIndex(daterange['Date']).weekday\n",
    "daterange['Weekend'] = daterange['Weekday'].map(lambda x: 1 if x == 5.0 or x == 6.0 else 0)\n",
    "\n",
    "\n",
    "merged = pd.merge(daterange, factor1_2, how='left', on=['Date'])\n",
    "merged['Date'] = merged['Date'].dt.date"
   ]
  },
  {
   "cell_type": "markdown",
   "metadata": {},
   "source": [
    "## Adding Factor 3 & 4\n",
    "For the bonds we had to make another uce case related decision. As per assignment instruction we did not know about the timeframe of the portfolio, we decided to take the average of the different provided Bonds values ( 1 Mo, 3 Mo, 1 yr. etc)"
   ]
  },
  {
   "cell_type": "code",
   "execution_count": 16,
   "metadata": {},
   "outputs": [],
   "source": [
    "#%% Adding Factor 3\n",
    "\n",
    "remoteFile = url.urlopen(factor3url)\n",
    "html = remoteFile.read().decode('ascii').splitlines()\n",
    "b = pd.DataFrame(data=html)\n",
    "b = b[0].str.split(\",\", expand = True)\n",
    "b.columns = b.iloc[0]\n",
    "b = b[1:]\n",
    "factor3 = b[b['Date'] >= '2007-12-26']\n",
    "factor3.rename(columns={'Value': 'Factor 3'}, inplace=True) \n",
    "factor3 = factor3.sort_values(by='Date').reset_index()\n",
    "factor3 = factor3.drop(\"index\",1)\n",
    "factor3['Date'] = pd.to_datetime(factor3.Date)\n",
    "factor3['Date'] = factor3['Date'].dt.date\n",
    "\n",
    "merged_1_2_3 = pd.merge(merged, factor3, how='left', on=['Date'])\n",
    "\n",
    "\n",
    "#%%\n",
    "\n",
    "#Factor 4 - taking the average of all different bonds as one factor\n",
    "\n",
    "\n",
    "remoteFile = url.urlopen(factor4url)\n",
    "html = remoteFile.read().decode('ascii').splitlines()\n",
    "b = pd.DataFrame(data=html)\n",
    "b = b[0].str.split(\",\", expand = True)\n",
    "b.columns = b.iloc[0]\n",
    "b = b[1:]\n",
    "factor4 = b[b['Date'] >= '2007-12-26']\n",
    "factor4['average'] = factor4[['1 MO', '3 MO', '6 MO', '1 YR', '2 YR', '3 YR', '5 YR',\n",
    "       '7 YR', '10 YR']].apply(pd.to_numeric).mean(axis=1)\n",
    "factor4.rename(columns={'average': 'Factor 4'}, inplace=True) \n",
    "factor4['Date'] = pd.to_datetime(factor4.Date)\n",
    "factor4['Date'] = factor4['Date'].dt.date\n",
    "factor4  = factor4[['Date','Factor 4']]\n",
    "\n",
    "\n",
    "\n",
    "merged_1_2_3_4 = pd.merge(merged_1_2_3, factor4, how='left', on=['Date'])"
   ]
  },
  {
   "cell_type": "markdown",
   "metadata": {},
   "source": [
    "## Now we have combined all 4 factors, but we still have weekends and holidays in there. First we want to remove weekends:"
   ]
  },
  {
   "cell_type": "code",
   "execution_count": 17,
   "metadata": {},
   "outputs": [],
   "source": [
    "merged_1_2_3_4 = merged_1_2_3_4[merged_1_2_3_4['Weekend'] != 1]"
   ]
  },
  {
   "cell_type": "markdown",
   "metadata": {},
   "source": [
    "## As we noticed that different factors had different missing dates (holidays etc), we cannot generalize this. We fill missing values with the previous day / last \"non-nan\" day"
   ]
  },
  {
   "cell_type": "code",
   "execution_count": 18,
   "metadata": {},
   "outputs": [],
   "source": [
    "merged_1_2_3_4 = merged_1_2_3_4.fillna(method='ffill')"
   ]
  },
  {
   "cell_type": "markdown",
   "metadata": {},
   "source": [
    "## Next step is to convert factors to returns:"
   ]
  },
  {
   "cell_type": "code",
   "execution_count": 21,
   "metadata": {},
   "outputs": [],
   "source": [
    "#Adding Factors with square and root\n",
    "\n",
    "X= merged_1_2_3_4\n",
    "\n",
    "X['Factor 1']= pd.to_numeric(X['Factor 1'])\n",
    "X['Factor 2']= pd.to_numeric(X['Factor 2'])\n",
    "X['Factor 3']= pd.to_numeric(X['Factor 3'])\n",
    "X['Factor 4']= pd.to_numeric(X['Factor 4'])\n",
    "\n",
    "\n",
    "#%% Codes to calculate returns from prices \n",
    "\n",
    "returns_factors = X.reset_index()\n",
    "returns_factors = returns_factors[['Date', 'Factor 1', 'Factor 2', 'Factor 3', 'Factor 4']]\n",
    "\n",
    "\n",
    "\n",
    "for index, row in returns_factors.iterrows():\n",
    "        if index < 5:\n",
    "            continue\n",
    "        else:    \n",
    "            returns_factors.loc[index, 'Return1'] = (returns_factors.loc[index, 'Factor 1'] - returns_factors.loc[index-5, 'Factor 1']) / returns_factors.loc[index-5, 'Factor 1']\n",
    "for index, row in returns_factors.iterrows():\n",
    "        if index < 5:\n",
    "            continue\n",
    "        else:    \n",
    "            returns_factors.loc[index, 'Return2'] = (returns_factors.loc[index, 'Factor 2'] - returns_factors.loc[index-5, 'Factor 2']) / returns_factors.loc[index-5, 'Factor 2']\n",
    "\n",
    "for index, row in returns_factors.iterrows():\n",
    "        if index < 5:\n",
    "            continue\n",
    "        else:    \n",
    "            returns_factors.loc[index, 'Return3'] = (returns_factors.loc[index, 'Factor 3'] - returns_factors.loc[index-5, 'Factor 3']) / returns_factors.loc[index-5, 'Factor 3']\n",
    "\n",
    "for index, row in returns_factors.iterrows():\n",
    "        if index < 5:\n",
    "            continue\n",
    "        else:    \n",
    "            returns_factors.loc[index, 'Return4'] = (returns_factors.loc[index, 'Factor 4'] - returns_factors.loc[index-5, 'Factor 4']) / returns_factors.loc[index-5, 'Factor 4']\n",
    "\n",
    "\n",
    "#%%\n",
    "            \n",
    "returns_factors = returns_factors.dropna().reset_index()\n",
    "final_factors =   returns_factors[['Date','Return1','Return2','Return3','Return4']]"
   ]
  },
  {
   "cell_type": "markdown",
   "metadata": {},
   "source": [
    "# Checking with Shapiro Test & KDE that Returns of Factors are normally distributed\n",
    "We used Shapiro-Wilk test to prove normality of distribution. The Shapiro-Wilk tests if a random sample came from a normal distribution. The null hypothesis of the test is the data is normally distributed. If the p value returned is less than.05, then the null hypothesis is rejected and there is evidence that the data is not from a normally distributed population.\n",
    "\n",
    "However, It is completely possible that for p > 0.05 and the data does not come from a normal population. Failure to reject could be from the sample size being too small to detect the non-normality. So, keep this in mind when interpreting the results.\n",
    "As well the stats.shapiro method will throw a warning on samples for size > 5000. So, for data sets larger than that you might want to choose another test for normality. But our data sample for each factor was just under 5000 so suitable for the test. We backed it up by using histogram for visualisation.\n"
   ]
  },
  {
   "cell_type": "code",
   "execution_count": 52,
   "metadata": {},
   "outputs": [
    {
     "name": "stdout",
     "output_type": "stream",
     "text": [
      "0.9129024744033813\n",
      "this is W static\n",
      "6.784675743031638e-38\n",
      "this is p value\n",
      "0.8830986618995667\n",
      "this is W static\n",
      "2.888076134973448e-42\n",
      "this is p value\n",
      "0.9588468670845032\n",
      "this is W static\n",
      "6.990171881320708e-28\n",
      "this is p value\n",
      "0.9765915274620056\n",
      "this is W static\n",
      "2.0837953924562625e-21\n",
      "this is p value\n"
     ]
    },
    {
     "data": {
      "image/png": "[encoded data removed]",
      "text/plain": [
       "<Figure size 432x288 with 1 Axes>"
      ]
     },
     "metadata": {},
     "output_type": "display_data"
    }
   ],
   "source": [
    "#%% Preparing returns dataframe for the distribution test\n",
    "Returnsfactor1 = final_factors['Return1']\n",
    "Returnsfactor2 = final_factors['Return2']\n",
    "Returnsfactor3 = final_factors['Return3']\n",
    "Returnsfactor4 = final_factors['Return4']\n",
    "\n",
    "#%% Proving that the each factor returns are normally distributed via Shapiro test\n",
    "\n",
    "\n",
    "from scipy import stats\n",
    "import matplotlib.pyplot as plt\n",
    "\n",
    "Shapirotest1= (stats.shapiro (Returnsfactor1))\n",
    "print (Shapirotest1[0])\n",
    "print (\"this is W static\")\n",
    "print (Shapirotest1[1])\n",
    "print (\"this is p value\")\n",
    "\n",
    "Shapirotest2= (stats.shapiro (Returnsfactor2))\n",
    "print (Shapirotest2[0])\n",
    "print (\"this is W static\")\n",
    "print (Shapirotest2[1])\n",
    "print (\"this is p value\")\n",
    "\n",
    "Shapirotest3= (stats.shapiro (Returnsfactor3))\n",
    "print (Shapirotest3[0])\n",
    "print (\"this is W static\")\n",
    "print (Shapirotest3[1])\n",
    "print (\"this is p value\")\n",
    "\n",
    "Shapirotest4= (stats.shapiro (Returnsfactor4))\n",
    "print (Shapirotest4[0])\n",
    "print (\"this is W static\")\n",
    "print (Shapirotest4[1])\n",
    "print (\"this is p value\")\n",
    "\n",
    "histFact1 = Returnsfactor1.hist(bins=50)\n",
    "histFact2 = Returnsfactor2.hist(bins=50)\n",
    "histFact3 = Returnsfactor3.hist(bins=50)\n",
    "histFact4 = Returnsfactor4.hist(bins=50) \n",
    "\n",
    "plt.title('Histrogram for Distribution of Factors')\n",
    "plt.xlabel('Returns')\n",
    "plt.ylabel('Count')\n",
    "plt.show()"
   ]
  },
  {
   "cell_type": "markdown",
   "metadata": {},
   "source": [
    "We used Shapiro test to check normality of distribution of factor returns and histogram. However because of the high volatility of factors we should smoothen up the histogram using the Kernel density estimation (KDE) technique. To estimate the probability density at a given point, KDE evaluates the Probability distribution functions of all the normal distributions at that point and takes their average. Source of this approach: https://perso.telecom-paristech.fr/qleroy/aml/lab4.html"
   ]
  },
  {
   "cell_type": "code",
   "execution_count": 51,
   "metadata": {},
   "outputs": [
    {
     "data": {
      "image/png": "[encoded data removed]",
      "text/plain": [
       "<Figure size 432x288 with 1 Axes>"
      ]
     },
     "metadata": {},
     "output_type": "display_data"
    },
    {
     "data": {
      "image/png": "[encoded data removed]",
      "text/plain": [
       "<Figure size 432x288 with 1 Axes>"
      ]
     },
     "metadata": {},
     "output_type": "display_data"
    },
    {
     "data": {
      "image/png": "[encoded data removed]",
      "text/plain": [
       "<Figure size 432x288 with 1 Axes>"
      ]
     },
     "metadata": {},
     "output_type": "display_data"
    },
    {
     "data": {
      "image/png": "[encoded data removed]",
      "text/plain": [
       "<Figure size 432x288 with 1 Axes>"
      ]
     },
     "metadata": {},
     "output_type": "display_data"
    }
   ],
   "source": [
    "from statsmodels.nonparametric.kernel_density import KDEMultivariate\n",
    "from statsmodels.nonparametric.kde import KDEUnivariate\n",
    "import matplotlib.pyplot as plt\n",
    "import scipy\n",
    "\n",
    "def plotDistribution(samples, title, numSamples=100):\n",
    "    vmin = min(samples)\n",
    "    vmax = max(samples)\n",
    "    stddev = np.std(samples)\n",
    "    \n",
    "    domain = np.arange(vmin, vmax, (vmax-vmin)/numSamples)\n",
    "    \n",
    "    # a simple heuristic to select bandwidth\n",
    "    bandwidth = 1.06 * stddev * pow(len(samples), -.2)\n",
    "    \n",
    "    # estimate density\n",
    "    kde = KDEUnivariate(samples)\n",
    "    kde.fit(bw=bandwidth)\n",
    "    density = kde.evaluate(domain)\n",
    "    \n",
    "    plt.plot(domain, density)\n",
    "    plt.title(title)\n",
    "    plt.xlabel('Returns')\n",
    "    plt.ylabel('Count')\n",
    "    plt.show()\n",
    "    \n",
    "\n",
    "plotDistribution(Returnsfactor1,'Distribution of Factor 1 Returns')\n",
    "plotDistribution(Returnsfactor2,'Distribution of Factor 2 Returns')\n",
    "plotDistribution(Returnsfactor3,'Distribution of Factor 3 Returns')\n",
    "plotDistribution(Returnsfactor4,'Distribution of Factor 4 Returns')"
   ]
  },
  {
   "cell_type": "markdown",
   "metadata": {},
   "source": [
    "## Featurizing Factors\n"
   ]
  },
  {
   "cell_type": "markdown",
   "metadata": {},
   "source": [
    "\n",
    "## We make sure that we do not change the sign of the returns when applying modifications like squaring or squared root"
   ]
  },
  {
   "cell_type": "code",
   "execution_count": 65,
   "metadata": {},
   "outputs": [],
   "source": [
    "#Featurizing Factors\n",
    "\n",
    "featurized = final_factors.copy()\n",
    "\n",
    "featurized['Factor 1 S'] = featurized['Return1'].apply(lambda x: -(x**2) if (x < 0) else x**2)\n",
    "\n",
    "featurized['Factor 2 S'] = featurized['Return2'].apply(lambda x: -(x**2) if (x < 0)else x**2)\n",
    "\n",
    "featurized['Factor 3 S'] = featurized['Return3'].apply(lambda x: -(x**2) if (x < 0) else x**2)\n",
    "\n",
    "featurized['Factor 4 S'] = featurized['Return4'].apply(lambda x: -(x**2) if (x < 0) else x**2)\n",
    "\n",
    "featurized['Factor 1 R'] = featurized['Return1'].apply(lambda x: -(abs(x)** (1/2)) if (x < 0) else x** (1/2))\n",
    "\n",
    "featurized['Factor 2 R'] = featurized['Return2'].apply(lambda x: -(abs(x)** (1/2)) if (x < 0) else x** (1/2))\n",
    "\n",
    "featurized['Factor 3 R'] = featurized['Return3'].apply(lambda x: -(abs(x)** (1/2)) if (x < 0) else x** (1/2))\n",
    "\n",
    "featurized['Factor 4 R']= featurized['Return4'].apply(lambda x: -(abs(x)** (1/2)) if (x < 0) else x** (1/2))\n",
    "\n",
    "\n",
    "\n",
    "csv_factors = featurized[['Date','Return1','Return2','Return3','Return4','Factor 1 S','Factor 2 S','Factor 3 S','Factor 4 S','Factor 1 R','Factor 2 R','Factor 3 R','Factor 4 R']]\n",
    "csv_factors.rename(columns={'Return1': 'Factor1'}, inplace=True) \n",
    "csv_factors.rename(columns={'Return2': 'Factor2'}, inplace=True) \n",
    "csv_factors.rename(columns={'Return3': 'Factor3'}, inplace=True) \n",
    "csv_factors.rename(columns={'Return4': 'Factor4'}, inplace=True) \n",
    "csv_factors.rename(columns={'Factor 1 S': '1S'}, inplace=True) \n",
    "csv_factors.rename(columns={'Factor 2 S': '2S'}, inplace=True) \n",
    "csv_factors.rename(columns={'Factor 3 S': '3S'}, inplace=True) \n",
    "csv_factors.rename(columns={'Factor 4 S': '4S'}, inplace=True) \n",
    "csv_factors.rename(columns={'Factor 1 R': '1R'}, inplace=True) \n",
    "csv_factors.rename(columns={'Factor 2 R': '2R'}, inplace=True) \n",
    "csv_factors.rename(columns={'Factor 3 R': '3R'}, inplace=True) \n",
    "csv_factors.rename(columns={'Factor 4 R': '4R'}, inplace=True) \n",
    "\n",
    "\n",
    "\n",
    "#csv_factors.to_csv (r'/Users/flo/Documents/GitHub/VaR-Calculation-SPARK/factors/factorfile.csv', index=False)"
   ]
  },
  {
   "cell_type": "markdown",
   "metadata": {},
   "source": [
    "Now we have featurized the factored to account for non-linear relationship. Whether or not the chosen approach with the root and the square. Simlar to the instruments we are also saving the factors as a local copy to access it for the next step."
   ]
  },
  {
   "cell_type": "markdown",
   "metadata": {},
   "source": [
    "# 3. MODEL\n",
    "No we can start with the modelling - As per instructions, we choose a simple linear model.\n",
    "We first import the 2 datasets for factors & instruments"
   ]
  },
  {
   "cell_type": "code",
   "execution_count": 66,
   "metadata": {},
   "outputs": [],
   "source": [
    "import pandas as pd\n",
    "from sklearn import linear_model\n",
    "import numpy as np\n",
    "\n",
    "factors = pd.read_csv('/Users/flo/Documents/GitHub/VaR-Calculation-SPARK/factors/factorfile.csv')\n",
    "instruments = pd.read_csv('/Users/flo/Documents/GitHub/VaR-Calculation-SPARK/instruments_returns.csv')\n",
    "\n",
    "covariance = factors[['Factor1','Factor2','Factor3','Factor4']].cov()\n",
    "mean = factors[['Factor1','Factor2','Factor3','Factor4']].mean()\n",
    "\n",
    "model = linear_model.LinearRegression()"
   ]
  },
  {
   "attachments": {},
   "cell_type": "markdown",
   "metadata": {},
   "source": [
    "## Model Fitting\n",
    "\n",
    "We took the following assumption from the instrucions: <br>\n",
    "\n",
    "The method is based in the assumption that we can estimate the return of the\n",
    "portfolio as function of a set of market factors.\n",
    "𝑟𝑖 = 𝑐𝑖 + ∑𝑤𝑖𝑗 ∗ 𝑓𝑗\n",
    "Where r = returns and f = factor\n",
    "\n",
    "In the following, we will use the sciKit learn model.fit function, fit a model on each instrument and generate a list that contains the respective weight and y intercepts. For visualization purposes, we will do this in \"pure\" python with the respective libraries - later one we will show the adapted approach fit for SPARK."
   ]
  },
  {
   "cell_type": "code",
   "execution_count": 67,
   "metadata": {},
   "outputs": [],
   "source": [
    "#First, instead of just fitting the model we will extract the coefficients opf each linear model\n",
    "\n",
    "weights = []\n",
    "intercepts = []\n",
    "\n",
    "for column in instruments:\n",
    "    if column == 'Date':\n",
    "            continue    \n",
    "     #We are doing another left join with the specific instrument data series and the factors, \n",
    "     #in order to adjust the length of the factors date range to the speicific instrument\n",
    "    datarange = instruments[['Date',column]].dropna().reset_index()\n",
    "    dataset =  pd.merge(datarange, factors, how='inner', on=['Date'])\n",
    "    X = dataset[['Factor1','1S','1R','Factor2','2S','2R','Factor3','3S','3R','Factor4','4S','4R']]\n",
    "    y = dataset[column]    \n",
    "        \n",
    "    model.fit(X,y)\n",
    "    \n",
    "    weights.append(model.coef_)\n",
    "    intercepts.append(model.intercept_)\n",
    "    \n",
    "\n"
   ]
  },
  {
   "cell_type": "markdown",
   "metadata": {},
   "source": [
    "## We now have a list of arrays with the respective weights for the 4 factors for all instruments as well as a list with one y-intercept for each instrument"
   ]
  },
  {
   "cell_type": "markdown",
   "metadata": {},
   "source": [
    "At this point, we want to briefly discuss the implication of our model fitting. While in the scope of this project we do not have to evaluate different models and the potential fit, we can make some statements about the general underlying assumptions. Right now, we are fitting a linear model for 30 + different instruments that we have received: We are working with the assumption that these instruments behave similar and underly the same external impact. 2nd, we also assume that the chosen time horizon is a good represenation of the stock behaviour in 2019: We would recommend analyzing the historical trend more and choose a shorter time horizon potentially. 3rd, we have 1000s of data points, but only 4 factors that we featurize - This is a very basic assumption and in real life, a stock behaviour would depend on many additional factors that we would need to include. Also, the factors are correlated (as shown below), hence the additional benefit of having these 4 is not as big as including another external factor that is not correlated to the 4 market factors. Using few variables to predict behaviours of many instruments is challenging. Some factors were pretty redundant & increasing featurisation of Factors 1,2 rather than all 4 could be more targeted"
   ]
  },
  {
   "cell_type": "code",
   "execution_count": 31,
   "metadata": {},
   "outputs": [
    {
     "data": {
      "text/plain": [
       "<matplotlib.axes._subplots.AxesSubplot at 0x1a1ac606d8>"
      ]
     },
     "execution_count": 31,
     "metadata": {},
     "output_type": "execute_result"
    },
    {
     "data": {
      "image/png": "[encoded data removed]",
      "text/plain": [
       "<Figure size 1440x720 with 2 Axes>"
      ]
     },
     "metadata": {},
     "output_type": "display_data"
    }
   ],
   "source": [
    "import seaborn as sns\n",
    "\n",
    "\n",
    "corrMatt = factors.corr()\n",
    "mask = np.array(corrMatt)\n",
    "mask[np.tril_indices_from(mask)] = False\n",
    "fig,ax= plt.subplots()\n",
    "fig.set_size_inches(20,10)\n",
    "sns.heatmap(corrMatt.round(2), mask=mask,vmax=.8, square=True,annot=True)"
   ]
  },
  {
   "cell_type": "markdown",
   "metadata": {},
   "source": [
    "## We will use the same approach as earlier to featurize factors, this time we are adding it to a function, to re-use it later"
   ]
  },
  {
   "cell_type": "code",
   "execution_count": 68,
   "metadata": {},
   "outputs": [],
   "source": [
    "def sign(number):\n",
    "    if number<0:\n",
    "        return -1\n",
    "    else:\n",
    "        return 1\n",
    "\n",
    "def featurize(factorReturns):\n",
    "    factorReturns = list(factorReturns)\n",
    "    squaredReturns = [sign(element)*(element)**2 for element in factorReturns]\n",
    "    squareRootedReturns = [sign(element)*abs(element)**0.5 for element in factorReturns]\n",
    "    # concat new features\n",
    "    return squaredReturns + squareRootedReturns + factorReturns"
   ]
  },
  {
   "cell_type": "markdown",
   "metadata": {},
   "source": [
    "## Next Step: Creating a function to generate samples for function in a loop and predict returns of portfolio\n",
    "For a better understanding, approach is explained detailled, in-line, the general approach is as follows: <br>\n",
    "1) Generate Samples <br>\n",
    "2) Featurized Samples <br>\n",
    "3) Multiply each entry in the weights list with the factors and sum them, then add the intercept to get the return <br>\n",
    "4) Add the return of the instrument to the list for each portfolio and take the average - then add that value to the list of all portfolios\n"
   ]
  },
  {
   "cell_type": "code",
   "execution_count": 69,
   "metadata": {},
   "outputs": [],
   "source": [
    "def simulate(runs, weights, intercepts):\n",
    "    #The function takes 3 parameters, the number of runs that we want and the weights and intercepts that we generated above\n",
    "    returns = []\n",
    "    for i in range(runs):\n",
    "        # We are generating sample values for our 4 factors based on mean and covariance of historical dataset\n",
    "        samples = np.random.multivariate_normal(mean, covariance)\n",
    "        # we can then call our featurize function from above:\n",
    "        featurized_factors = featurize(samples)\n",
    "        portfolio_return = 0\n",
    "        # Now we need to caluclate the return of each instrument\n",
    "        #We have 3 lists to work with, the list of featurized random factors, the lists within a list of weights and the list of intercepts:\n",
    "        for index, weightlst in enumerate(weights):\n",
    "            for index2, factor in enumerate(featurized_factors):\n",
    "                # We multiply the respective factor with the respective weight and add the intercept for that instrument\n",
    "                inst_return = sum([factor * weightlst[index2]]) + intercepts[index]\n",
    "                portfolio_return += inst_return\n",
    "        returns.append(portfolio_return)  \n",
    "    return returns"
   ]
  },
  {
   "cell_type": "markdown",
   "metadata": {},
   "source": [
    "# We return a list that now contains the estimate portfolio return for each run where we generate the factors"
   ]
  },
  {
   "cell_type": "code",
   "execution_count": 70,
   "metadata": {},
   "outputs": [
    {
     "data": {
      "text/plain": [
       "Text(0,0.5,'Count')"
      ]
     },
     "execution_count": 70,
     "metadata": {},
     "output_type": "execute_result"
    },
    {
     "data": {
      "image/png": "[encoded data removed]",
      "text/plain": [
       "<Figure size 432x288 with 1 Axes>"
      ]
     },
     "metadata": {},
     "output_type": "display_data"
    }
   ],
   "source": [
    "predictions = simulate(10000,weights, intercepts)\n",
    "\n",
    "# Now we can show, that the predictions follow a multivariate normal distribution:\n",
    "\n",
    "predictions_df = pd.DataFrame(data=predictions)\n",
    "predictions_df.hist(bins=50)\n",
    "plt.title('Distribution of Predictions')\n",
    "plt.xlabel('Returns')\n",
    "plt.ylabel('Count')\n",
    "\n",
    "\n"
   ]
  },
  {
   "cell_type": "markdown",
   "metadata": {},
   "source": [
    "# Calculating Value at Risk\n",
    "For the VAR calculation we apply the following steps: <br>\n",
    "1) We sort the list of all returns first <br>\n",
    "2) We slice the list at the 5th percentile from the bottom <br>\n",
    "3) We take the max (\"least negative\") from that slice <br>"
   ]
  },
  {
   "cell_type": "code",
   "execution_count": 71,
   "metadata": {},
   "outputs": [
    {
     "name": "stdout",
     "output_type": "stream",
     "text": [
      "VAR: -6.25354669498154\n"
     ]
    }
   ],
   "source": [
    "# And we can calculate the VAR\n",
    "predictions.sort()\n",
    "n = len(predictions)*0.05\n",
    "five_percent = predictions[:int(n)]\n",
    "\n",
    "\n",
    "#Result:\n",
    "var = max(five_percent)\n",
    "print('VAR: ' + str(var))"
   ]
  },
  {
   "cell_type": "markdown",
   "metadata": {},
   "source": [
    "As a result, we can see that we have calculated a VAR of -6.25 of Total Portfolio"
   ]
  },
  {
   "cell_type": "markdown",
   "metadata": {},
   "source": [
    "# 4. Implementation in SPARK"
   ]
  },
  {
   "cell_type": "markdown",
   "metadata": {},
   "source": [
    "The approach above has been very much oriented at Python, using the Pandas libraries that we are familiar with and only after doing that we approached the next step: Parallizing this in Spark.  \n",
    "\n",
    "From our research, we could see three options to make our current computation of the trial runs work in Spark:\n",
    "\n",
    "1) In general, Spark is parallelizing nativeley if the respective Spark libraries are used ---> E.g by using Spark RDD Dataframes, Spark is automatically distributing the computation across the clusters. \n",
    "1) Using multithreading libraries\n",
    "2) Using Pandas UDFs libraries to distribute Panda Dataframes\n",
    "\n",
    "We decided to go for option one - which means converting our Pandas DF logic to Spark RDDs - Also, we need to use the SPARK ML linear model instead of the Scikit one.\n",
    "<br>\n",
    "The different Code Snippets below cannot be run in a normal Jupyter or Python environment - But have to be copied to a python file within a Spark environment that has the necessary packages installed. "
   ]
  },
  {
   "cell_type": "markdown",
   "metadata": {},
   "source": [
    "### Step 1: Initializing Spark Session\n",
    "We are runnning our file in the virtual environemnt that was provided to us. \n",
    "With \"touch VAR.py\" we created an empty python file and also pip installed Pandas in the VE (as we do need some functionalities)"
   ]
  },
  {
   "cell_type": "code",
   "execution_count": null,
   "metadata": {},
   "outputs": [],
   "source": [
    "import pyspark\n",
    "from pyspark.context import SparkContext\n",
    "from pyspark.sql.session import SparkSession\n",
    "\n",
    "import pandas as pd\n",
    "import numpy as np\n",
    "from pyspark.ml.regression import LinearRegression\n",
    "from pyspark import SparkConf, SparkContext\n",
    "from pyspark.sql import SQLContext\n",
    "from pyspark.ml.feature import VectorAssembler\n",
    "\n",
    "\n",
    "sc= SparkContext()\n",
    "sqlContext = SQLContext(sc)"
   ]
  },
  {
   "cell_type": "markdown",
   "metadata": {},
   "source": [
    "### Step 2: Importing Datafiles\n",
    "After importing and initializing the Spark Session, we need to import the datafiles (We uploaded them to github and used wget to import them into the VE). We use Pyspark syntax to import the two csvs as Spark RDDs"
   ]
  },
  {
   "cell_type": "code",
   "execution_count": null,
   "metadata": {},
   "outputs": [],
   "source": [
    "factors = sqlContext.read.format('csv').options(header='true', inferschema='true').load('factorfile.csv.1')\n",
    "factors = factors.toPandas()\n",
    "\n",
    "instruments = sqlContext.read.format('csv').options(header='true', inferschema='true').load('Instruments_returns.csv.1')\n",
    "instruments = instruments.toPandas()\n",
    "\n",
    "\n",
    "covariance = factors.cov()\n",
    "mean = factors.mean()\n",
    "\n",
    "weights = []\n",
    "intercepts = []\n"
   ]
  },
  {
   "cell_type": "markdown",
   "metadata": {},
   "source": [
    "### Step 3: Fitting Spark Linear Model & Deriving Coefficents\n",
    "There is a  difference between the Scikit Learn linear model and the Spark ML Linear Regression --> in Spark, we cannot use the dataframes as input vectors, but need to create a map first with features and respective labels that can be transformed with the Spark linear model. We are using Spark Vector Assembler to faciliate that mapping."
   ]
  },
  {
   "cell_type": "code",
   "execution_count": null,
   "metadata": {},
   "outputs": [],
   "source": [
    "for column in instruments:\n",
    "            if column == 'Date':\n",
    "                continue\n",
    "            datarange = instruments[['Date',column]].dropna().reset_index()\n",
    "            dataset =  pd.merge(datarange, factors, how='inner', on=['Date'])\n",
    "            X = dataset[['Factor1','1S','1R','Factor2','2S','2R','Factor3','3S','3R','Factor4','4S','4R']].values\n",
    "            y = dataset[column].values\n",
    "            spark_df = sqlContext.createDataFrame(dataset)\n",
    "            print(spark_df.columns)\n",
    "\n",
    "            #Fit the model on each instrument individually\n",
    "            #We first have to transform our dataframes into a vector map as input parameters to the Linear Regression\n",
    "            vectorAssembler = VectorAssembler(inputCols = [['Factor1','1S','1R','Factor2','2S','2R','Factor3','3S','3R','Factor4','4S','4R']], outputCol = 'features')\n",
    "            vector_dataset = vectorAssembler.transform(spark_df)\n",
    "            vector_dataset_train = vector_dataset.select(['features', column])\n",
    "            model = LinearRegression(featuresCol = 'features', labelCol=column,regParam=0.3)\n",
    "            lr_fitted = model.fit(vector_dataset_train)\n",
    "            \n",
    "            weights.append(lr_fitted.coefficients)\n",
    "            intercepts.append(lr_fitted.intercept)\n",
    "            \n",
    "            "
   ]
  },
  {
   "cell_type": "markdown",
   "metadata": {},
   "source": [
    "The above steps do not have to be parallelized but can be performed once to output the weights/coefficients and intercept lists. These could then be stored locally and imported whenever necessary."
   ]
  },
  {
   "cell_type": "markdown",
   "metadata": {},
   "source": [
    "### Step 4: Adding Function to simulate the runs that will then be parallelized\n",
    "These are the same functions as previously used"
   ]
  },
  {
   "cell_type": "code",
   "execution_count": null,
   "metadata": {},
   "outputs": [],
   "source": [
    "def sign(number):\n",
    "    if number<0:\n",
    "        return -1\n",
    "    else:\n",
    "        return 1\n",
    "\n",
    "def featurize(factorReturns):\n",
    "    factorReturns = list(factorReturns)\n",
    "    squaredReturns = [sign(element)*(element)**2 for element in factorReturns]\n",
    "    squareRootedReturns = [sign(element)*abs(element)**0.5 for element in factorReturns]\n",
    "    # concat new features\n",
    "    return squaredReturns + squareRootedReturns + factorReturns\n",
    "\n",
    "\n",
    "\n",
    "# Now we have our basis set, without any pandas logic, and we can write the function that we want to parallelize i Spark\n",
    "    \n",
    "def simulate(runs,weights, intercepts):\n",
    "    returns = []\n",
    "    for i in range(runs):\n",
    "        samples = np.random.multivariate_normal(mean, covariance)\n",
    "        # we can then call our featurize function from above:\n",
    "        featurized_factors = featurize(samples)\n",
    "        portfolio_return = 0\n",
    "        # Now we need to caluclate the return of each instrument\n",
    "        #We have 3 lists to work with, the list of featurized random factors, the lists within a list of weights and the list of intercepts:\n",
    "        for index, weightlst in enumerate(weights):\n",
    "            for index2, factor in enumerate(featurized_factors):\n",
    "                # We multiply the respective factor with the respective weight and add the intercept for that instrument\n",
    "                inst_return = sum([factor * weightlst[index2]]) + intercepts[index]\n",
    "                portfolio_return += inst_return\n",
    "        returns.append(portfolio_return)  \n",
    "    return returns"
   ]
  },
  {
   "cell_type": "markdown",
   "metadata": {},
   "source": [
    "### Step 5: Parallelizing\n",
    "There are different methods to initiate the parallelization - These also depend on the configuration of the Spark environment. We oriented the Spark syntax to distribute the computing, after an approach referenced here:https://perso.telecom-paristech.fr/qleroy/aml/lab4.html. <br>\n",
    "Parallelized collections are created by calling SparkContext’s parallelize method. The elements of the collection are copied to form a distributed dataset that can be operated on in parallel.\n",
    "By applying the seedRDD.flatMap function we are able to apply the function we have defined above to the be executed and the 10000 trials are split between them --> The function \"simulate\" defined above will be ran 12 times in parallel. You can add print statements in the function to validate this.\n",
    "We also need to change the method to calculate VAR, as the difference of the SPARK implementation is that by parallelizing we return a SPARK RDD that does not have the method sort() as in pure python. The respective function for that is takeOrdered."
   ]
  },
  {
   "cell_type": "code",
   "execution_count": null,
   "metadata": {},
   "outputs": [],
   "source": [
    "def fivePercentVaR(trials):\n",
    "    numTrials = trials.count()\n",
    "    topLosses = trials.takeOrdered(max(int(numTrials/20), 1))\n",
    "    return topLosses[-1]                \n",
    "\n",
    "\n",
    "if __name__ == \"__main__\":\n",
    "    \n",
    "    parallelism = 12\n",
    "    numTrials = 10000\n",
    "    trial_indexes = list(range(0, parallelism))\n",
    "\n",
    "    seedRDD = sc.parallelize(trial_indexes, parallelism)\n",
    "    bFactorWeights = sc.broadcast(weights)\n",
    "    \n",
    "    #Below we are now creating the partitions with the flat map, deviding the trials to be executed between the worker Cores\n",
    "\n",
    "    predictions = seedRDD.flatMap(lambda idx: \\\n",
    "                simulate(\n",
    "                    max(int(numTrials/parallelism), 1),\n",
    "                    weights,\n",
    "                    intercepts\n",
    "                ))\n",
    "    predictions.cache()\n",
    "\n",
    "    var = fivePercentVaR(predictions)\n",
    "    print('VAR: ' + str(var))"
   ]
  },
  {
   "cell_type": "markdown",
   "metadata": {},
   "source": [
    "That was our approach for the implementation, first in python, then in Spark. <br> \n",
    "Thanks a lot for following along! Best, Team A <br>\n",
    "March 18th, 2019"
   ]
  },
  {
   "cell_type": "code",
   "execution_count": null,
   "metadata": {},
   "outputs": [],
   "source": []
  }
 ],
 "metadata": {
  "kernelspec": {
   "display_name": "Python 3",
   "language": "python",
   "name": "python3"
  },
  "language_info": {
   "codemirror_mode": {
    "name": "ipython",
    "version": 3
   },
   "file_extension": ".py",
   "mimetype": "text/x-python",
   "name": "python",
   "nbconvert_exporter": "python",
   "pygments_lexer": "ipython3",
   "version": "3.6.8"
  }
 },
 "nbformat": 4,
 "nbformat_minor": 2
}
